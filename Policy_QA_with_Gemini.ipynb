{
  "cells": [
    {
      "cell_type": "code",
      "execution_count": null,
      "metadata": {
        "id": "pzetEIGBuf8p"
      },
      "outputs": [],
      "source": [
        "# STEP 1: Install dependencies\n",
        "!pip install -q langchain langchain-community faiss-cpu sentence-transformers PyPDF2 google-generativeai"
      ]
    },
    {
      "cell_type": "code",
      "execution_count": null,
      "metadata": {
        "id": "J_N9xJ82uhUr"
      },
      "outputs": [],
      "source": [
        "# STEP 2: Imports\n",
        "import os\n",
        "import json\n",
        "import re\n",
        "import time\n",
        "import google.api_core.exceptions\n",
        "from PyPDF2 import PdfReader\n",
        "from langchain.text_splitter import RecursiveCharacterTextSplitter\n",
        "from langchain.vectorstores import FAISS\n",
        "from langchain.embeddings import HuggingFaceEmbeddings\n",
        "from langchain.docstore.document import Document\n",
        "from google import generativeai as genai\n",
        "from google.colab import userdata\n",
        "from google.colab import files"
      ]
    },
    {
      "cell_type": "code",
      "execution_count": null,
      "metadata": {
        "id": "YYN2yyKnulo7"
      },
      "outputs": [],
      "source": [
        "# STEP 3: Load and extract PDF content\n",
        "def extract_text_from_pdf(file_path):\n",
        "    print(\"📄 Reading and extracting text from PDF...\")\n",
        "    reader = PdfReader(file_path)\n",
        "    text = \"\"\n",
        "    for i, page in enumerate(reader.pages):\n",
        "        if page.extract_text():\n",
        "            print(f\" Extracted text from page {i+1}\")\n",
        "            text += page.extract_text() + \"\\n\"\n",
        "    return text"
      ]
    },
    {
      "cell_type": "code",
      "execution_count": null,
      "metadata": {
        "id": "cWFZOJYXuo3B"
      },
      "outputs": [],
      "source": [
        "# STEP 4: Advanced Chunking using recursive splitting\n",
        "def chunk_text(text):\n",
        "    print(\" Splitting text into chunks for embedding...\")\n",
        "    splitter = RecursiveCharacterTextSplitter(chunk_size=800, chunk_overlap=100)\n",
        "    chunks = splitter.create_documents([text])\n",
        "    print(f\"🧩 Created {len(chunks)} chunks.\")\n",
        "    return chunks"
      ]
    },
    {
      "cell_type": "code",
      "execution_count": null,
      "metadata": {
        "colab": {
          "background_save": true
        },
        "collapsed": true,
        "id": "EC8Df9rmutd6",
        "outputId": "33925cc3-4a3a-4615-ea0c-ac769df9ff62"
      },
      "outputs": [
        {
          "name": "stderr",
          "output_type": "stream",
          "text": [
            "/tmp/ipython-input-5-1211201382.py:2: LangChainDeprecationWarning: The class `HuggingFaceEmbeddings` was deprecated in LangChain 0.2.2 and will be removed in 1.0. An updated version of the class exists in the :class:`~langchain-huggingface package and should be used instead. To use it run `pip install -U :class:`~langchain-huggingface` and import as `from :class:`~langchain_huggingface import HuggingFaceEmbeddings``.\n",
            "  embedding_model = HuggingFaceEmbeddings(model_name=\"sentence-transformers/all-MiniLM-L6-v2\")\n",
            "/usr/local/lib/python3.11/dist-packages/huggingface_hub/utils/_auth.py:94: UserWarning: \n",
            "The secret `HF_TOKEN` does not exist in your Colab secrets.\n",
            "To authenticate with the Hugging Face Hub, create a token in your settings tab (https://huggingface.co/settings/tokens), set it as secret in your Google Colab and restart your session.\n",
            "You will be able to reuse this secret in all of your notebooks.\n",
            "Please note that authentication is recommended but still optional to access public models or datasets.\n",
            "  warnings.warn(\n"
          ]
        }
      ],
      "source": [
        "# STEP 5: Generate embeddings and create FAISS index\n",
        "embedding_model = HuggingFaceEmbeddings(model_name=\"sentence-transformers/all-MiniLM-L6-v2\")"
      ]
    },
    {
      "cell_type": "code",
      "execution_count": null,
      "metadata": {
        "colab": {
          "background_save": true
        },
        "id": "RmtS4UmSuyAe"
      },
      "outputs": [],
      "source": [
        "def create_vectorstore(chunks):\n",
        "    print(\"📦 Generating embeddings and building FAISS index...\")\n",
        "    return FAISS.from_documents(chunks, embedding_model)"
      ]
    },
    {
      "cell_type": "code",
      "execution_count": null,
      "metadata": {
        "id": "nY0aUJk5u0pA"
      },
      "outputs": [],
      "source": [
        "# STEP 6: Configure Gemini API\n",
        "api_key = userdata.get('GOOGLE_API_KEY')\n",
        "genai.configure(api_key=api_key)\n",
        "model = genai.GenerativeModel(\"gemini-2.5-pro\")"
      ]
    },
    {
      "cell_type": "code",
      "execution_count": null,
      "metadata": {
        "id": "dbdMH1UUvHIp"
      },
      "outputs": [],
      "source": [
        "# STEP 7: Prompt Template for Structured Response\n",
        "def build_prompt(context, query):\n",
        "    return f\"\"\"\n",
        "You are an expert insurance assistant. Use the policy text below to answer the user query.\n",
        "\n",
        "Policy Clauses:\n",
        "{context}\n",
        "\n",
        "User Query:\n",
        "{query}\n",
        "\n",
        "Return only valid JSON object like:\n",
        "{{\n",
        "  \"Decision\": \"Approved / Rejected / Unknown\",\n",
        "  \"Amount\": \"₹ value or 'N/A'\",\n",
        "  \"Justification\": \"Explain clearly with the exact clause or rule quoted verbatim.\"\n",
        "}}\n",
        "Only output the JSON object. Do not wrap it in markdown, triple quotes, or anything else.\n",
        "\"\"\""
      ]
    },
    {
      "cell_type": "code",
      "execution_count": null,
      "metadata": {
        "id": "tNjPaciLvbZo"
      },
      "outputs": [],
      "source": [
        "# STEP 8: Retrieve relevant chunks\n",
        "def retrieve_context(query, vectordb):\n",
        "    print(\"🔍 Retrieving relevant chunks from FAISS store...\")\n",
        "    retriever = vectordb.as_retriever(search_kwargs={\"k\": 3})\n",
        "    docs = retriever.get_relevant_documents(query)\n",
        "    print(f\"📚 Retrieved {len(docs)} matching document chunks.\")\n",
        "    return \"\\n---\\n\".join([doc.page_content for doc in docs])"
      ]
    },
    {
      "cell_type": "code",
      "execution_count": null,
      "metadata": {
        "id": "6olXEzhbvsrN"
      },
      "outputs": [],
      "source": [
        "# STEP 9: Ask Gemini and extract only JSON (with timeout handling)\n",
        "def ask_gemini(context, query):\n",
        "    print(\" Sending prompt to Gemini...\")\n",
        "    prompt = build_prompt(context, query)\n",
        "    for attempt in range(2):\n",
        "        try:\n",
        "            response = model.generate_content(prompt)\n",
        "            text = response.text\n",
        "            json_str = re.search(r\"{.*}\", text, re.DOTALL).group()\n",
        "            parsed = json.loads(json_str)\n",
        "            return json.dumps(parsed, indent=2)\n",
        "        except google.api_core.exceptions.DeadlineExceeded:\n",
        "            print(\" Timeout occurred, retrying...\")\n",
        "            time.sleep(2)\n",
        "        except Exception as e:\n",
        "            print(f\" Gemini error: {e}\")\n",
        "            return \" Gemini did not return valid JSON.\\n\\nRaw Output:\\n\" + response.text\n",
        "    return \" Request failed after retries.\"\n"
      ]
    },
    {
      "cell_type": "code",
      "execution_count": null,
      "metadata": {
        "id": "hDH0lCw7vw9Y"
      },
      "outputs": [],
      "source": [
        "def process_file_and_query(file_path, query):\n",
        "    print(\"\\n Starting document analysis pipeline...\")\n",
        "    text = extract_text_from_pdf(file_path)\n",
        "    chunks = chunk_text(text)\n",
        "    vectordb = create_vectorstore(chunks)\n",
        "    context = retrieve_context(query, vectordb)\n",
        "    print(\"\\n Running Gemini inference...\")\n",
        "    return ask_gemini(context, query)"
      ]
    },
    {
      "cell_type": "code",
      "execution_count": null,
      "metadata": {
        "colab": {
          "background_save": true,
          "base_uri": "https://localhost:8080/",
          "height": 56
        },
        "id": "QMnkmGMJKPsD",
        "outputId": "57e1511c-7279-4449-8405-4d6b4040ee98"
      },
      "outputs": [
        {
          "name": "stdout",
          "output_type": "stream",
          "text": [
            "📤 Please upload a policy PDF file to begin...\n"
          ]
        },
        {
          "data": {
            "text/html": [
              "\n",
              "     <input type=\"file\" id=\"files-3882083f-4541-4814-a79e-4c034e1dea3b\" name=\"files[]\" multiple disabled\n",
              "        style=\"border:none\" />\n",
              "     <output id=\"result-3882083f-4541-4814-a79e-4c034e1dea3b\">\n",
              "      Upload widget is only available when the cell has been executed in the\n",
              "      current browser session. Please rerun this cell to enable.\n",
              "      </output>\n",
              "      <script>// Copyright 2017 Google LLC\n",
              "//\n",
              "// Licensed under the Apache License, Version 2.0 (the \"License\");\n",
              "// you may not use this file except in compliance with the License.\n",
              "// You may obtain a copy of the License at\n",
              "//\n",
              "//      http://www.apache.org/licenses/LICENSE-2.0\n",
              "//\n",
              "// Unless required by applicable law or agreed to in writing, software\n",
              "// distributed under the License is distributed on an \"AS IS\" BASIS,\n",
              "// WITHOUT WARRANTIES OR CONDITIONS OF ANY KIND, either express or implied.\n",
              "// See the License for the specific language governing permissions and\n",
              "// limitations under the License.\n",
              "\n",
              "/**\n",
              " * @fileoverview Helpers for google.colab Python module.\n",
              " */\n",
              "(function(scope) {\n",
              "function span(text, styleAttributes = {}) {\n",
              "  const element = document.createElement('span');\n",
              "  element.textContent = text;\n",
              "  for (const key of Object.keys(styleAttributes)) {\n",
              "    element.style[key] = styleAttributes[key];\n",
              "  }\n",
              "  return element;\n",
              "}\n",
              "\n",
              "// Max number of bytes which will be uploaded at a time.\n",
              "const MAX_PAYLOAD_SIZE = 100 * 1024;\n",
              "\n",
              "function _uploadFiles(inputId, outputId) {\n",
              "  const steps = uploadFilesStep(inputId, outputId);\n",
              "  const outputElement = document.getElementById(outputId);\n",
              "  // Cache steps on the outputElement to make it available for the next call\n",
              "  // to uploadFilesContinue from Python.\n",
              "  outputElement.steps = steps;\n",
              "\n",
              "  return _uploadFilesContinue(outputId);\n",
              "}\n",
              "\n",
              "// This is roughly an async generator (not supported in the browser yet),\n",
              "// where there are multiple asynchronous steps and the Python side is going\n",
              "// to poll for completion of each step.\n",
              "// This uses a Promise to block the python side on completion of each step,\n",
              "// then passes the result of the previous step as the input to the next step.\n",
              "function _uploadFilesContinue(outputId) {\n",
              "  const outputElement = document.getElementById(outputId);\n",
              "  const steps = outputElement.steps;\n",
              "\n",
              "  const next = steps.next(outputElement.lastPromiseValue);\n",
              "  return Promise.resolve(next.value.promise).then((value) => {\n",
              "    // Cache the last promise value to make it available to the next\n",
              "    // step of the generator.\n",
              "    outputElement.lastPromiseValue = value;\n",
              "    return next.value.response;\n",
              "  });\n",
              "}\n",
              "\n",
              "/**\n",
              " * Generator function which is called between each async step of the upload\n",
              " * process.\n",
              " * @param {string} inputId Element ID of the input file picker element.\n",
              " * @param {string} outputId Element ID of the output display.\n",
              " * @return {!Iterable<!Object>} Iterable of next steps.\n",
              " */\n",
              "function* uploadFilesStep(inputId, outputId) {\n",
              "  const inputElement = document.getElementById(inputId);\n",
              "  inputElement.disabled = false;\n",
              "\n",
              "  const outputElement = document.getElementById(outputId);\n",
              "  outputElement.innerHTML = '';\n",
              "\n",
              "  const pickedPromise = new Promise((resolve) => {\n",
              "    inputElement.addEventListener('change', (e) => {\n",
              "      resolve(e.target.files);\n",
              "    });\n",
              "  });\n",
              "\n",
              "  const cancel = document.createElement('button');\n",
              "  inputElement.parentElement.appendChild(cancel);\n",
              "  cancel.textContent = 'Cancel upload';\n",
              "  const cancelPromise = new Promise((resolve) => {\n",
              "    cancel.onclick = () => {\n",
              "      resolve(null);\n",
              "    };\n",
              "  });\n",
              "\n",
              "  // Wait for the user to pick the files.\n",
              "  const files = yield {\n",
              "    promise: Promise.race([pickedPromise, cancelPromise]),\n",
              "    response: {\n",
              "      action: 'starting',\n",
              "    }\n",
              "  };\n",
              "\n",
              "  cancel.remove();\n",
              "\n",
              "  // Disable the input element since further picks are not allowed.\n",
              "  inputElement.disabled = true;\n",
              "\n",
              "  if (!files) {\n",
              "    return {\n",
              "      response: {\n",
              "        action: 'complete',\n",
              "      }\n",
              "    };\n",
              "  }\n",
              "\n",
              "  for (const file of files) {\n",
              "    const li = document.createElement('li');\n",
              "    li.append(span(file.name, {fontWeight: 'bold'}));\n",
              "    li.append(span(\n",
              "        `(${file.type || 'n/a'}) - ${file.size} bytes, ` +\n",
              "        `last modified: ${\n",
              "            file.lastModifiedDate ? file.lastModifiedDate.toLocaleDateString() :\n",
              "                                    'n/a'} - `));\n",
              "    const percent = span('0% done');\n",
              "    li.appendChild(percent);\n",
              "\n",
              "    outputElement.appendChild(li);\n",
              "\n",
              "    const fileDataPromise = new Promise((resolve) => {\n",
              "      const reader = new FileReader();\n",
              "      reader.onload = (e) => {\n",
              "        resolve(e.target.result);\n",
              "      };\n",
              "      reader.readAsArrayBuffer(file);\n",
              "    });\n",
              "    // Wait for the data to be ready.\n",
              "    let fileData = yield {\n",
              "      promise: fileDataPromise,\n",
              "      response: {\n",
              "        action: 'continue',\n",
              "      }\n",
              "    };\n",
              "\n",
              "    // Use a chunked sending to avoid message size limits. See b/62115660.\n",
              "    let position = 0;\n",
              "    do {\n",
              "      const length = Math.min(fileData.byteLength - position, MAX_PAYLOAD_SIZE);\n",
              "      const chunk = new Uint8Array(fileData, position, length);\n",
              "      position += length;\n",
              "\n",
              "      const base64 = btoa(String.fromCharCode.apply(null, chunk));\n",
              "      yield {\n",
              "        response: {\n",
              "          action: 'append',\n",
              "          file: file.name,\n",
              "          data: base64,\n",
              "        },\n",
              "      };\n",
              "\n",
              "      let percentDone = fileData.byteLength === 0 ?\n",
              "          100 :\n",
              "          Math.round((position / fileData.byteLength) * 100);\n",
              "      percent.textContent = `${percentDone}% done`;\n",
              "\n",
              "    } while (position < fileData.byteLength);\n",
              "  }\n",
              "\n",
              "  // All done.\n",
              "  yield {\n",
              "    response: {\n",
              "      action: 'complete',\n",
              "    }\n",
              "  };\n",
              "}\n",
              "\n",
              "scope.google = scope.google || {};\n",
              "scope.google.colab = scope.google.colab || {};\n",
              "scope.google.colab._files = {\n",
              "  _uploadFiles,\n",
              "  _uploadFilesContinue,\n",
              "};\n",
              "})(self);\n",
              "</script> "
            ],
            "text/plain": [
              "<IPython.core.display.HTML object>"
            ]
          },
          "metadata": {},
          "output_type": "display_data"
        }
      ],
      "source": [
        "#  STEP 11: Manual Input Interface in Colab\n",
        "print(\" Please upload a policy PDF file to begin...\")\n",
        "uploaded = files.upload()\n",
        "filepath = next(iter(uploaded))\n",
        "print(f\" Uploaded file: {filepath}\")\n",
        "\n",
        "query = input(\"\\n🔍 Enter your query (e.g. 46M, knee surgery, 3-month-old policy): \")\n",
        "response = process_file_and_query(filepath, query)\n",
        "\n",
        "print(\"\\n Gemini Response:\")\n",
        "print(response)"
      ]
    }
  ],
  "metadata": {
    "colab": {
      "provenance": []
    },
    "kernelspec": {
      "display_name": "Python 3",
      "name": "python3"
    },
    "language_info": {
      "name": "python"
    }
  },
  "nbformat": 4,
  "nbformat_minor": 0
}
